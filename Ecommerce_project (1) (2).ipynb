{
 "cells": [
  {
   "cell_type": "markdown",
   "id": "bdff3399",
   "metadata": {},
   "source": [
    "# Ecommerce Customers"
   ]
  },
  {
   "cell_type": "markdown",
   "id": "8da53016",
   "metadata": {},
   "source": [
    "# Problem Statement\n",
    "A project with an Ecommerce company sells clothing online but they also have in-store style\n",
    "and clothing advice sessions. Customers come in to the store, have sessions/meetings with\n",
    "a personal stylist, then they can go home and order either on a mobile app or website for the\n",
    "clothes they want. The company is trying to decide whether to focus their efforts on their\n",
    "mobile app experience or their website. They have asked to help them figure it out."
   ]
  },
  {
   "cell_type": "code",
   "execution_count": null,
   "id": "4a47670f",
   "metadata": {},
   "outputs": [],
   "source": [
    "# import packages\n",
    "import pandas as pd\n",
    "import numpy as np\n",
    "import matplotlib.pyplot as plt\n",
    "import seaborn as sns\n",
    "# for linear regression\n",
    "from sklearn.linear_model import LinearRegression\n",
    "from sklearn.model_selection import train_test_split\n",
    "from sklearn.metrics import mean_squared_error, r2_score\n",
    "#for decision tree\n",
    "from sklearn.tree import DecisionTreeRegressor\n",
    "#for KNN\n",
    "from sklearn.neighbors import KNeighborsRegressor\n",
    "# fot gradiend boosting regressor\n",
    "from sklearn.ensemble import GradientBoostingRegressor\n",
    "# for Random forest\n",
    "from sklearn.ensemble import RandomForestRegressor\n",
    "#for lasso regression model\n",
    "from sklearn.linear_model import Ridge\n",
    "#for Support Vector machine\n",
    "from sklearn.svm import SVR"
   ]
  },
  {
   "cell_type": "code",
   "execution_count": null,
   "id": "35dc7945",
   "metadata": {},
   "outputs": [],
   "source": [
    "# import datasets\n",
    "data=pd.read_csv('Ecommerce_Customers.csv')"
   ]
  },
  {
   "cell_type": "code",
   "execution_count": null,
   "id": "ef90d90f",
   "metadata": {},
   "outputs": [],
   "source": [
    "data"
   ]
  },
  {
   "cell_type": "code",
   "execution_count": null,
   "id": "2e82de23",
   "metadata": {},
   "outputs": [],
   "source": [
    "data.shape"
   ]
  },
  {
   "cell_type": "code",
   "execution_count": null,
   "id": "56ecf856",
   "metadata": {},
   "outputs": [],
   "source": [
    "data.size"
   ]
  },
  {
   "cell_type": "code",
   "execution_count": null,
   "id": "ec00d471",
   "metadata": {},
   "outputs": [],
   "source": [
    "# Check null values in the dataset\n",
    "data.isnull().sum()"
   ]
  },
  {
   "cell_type": "code",
   "execution_count": null,
   "id": "8152ecdb",
   "metadata": {},
   "outputs": [],
   "source": [
    "# Summary statistics and info about the dataset\n",
    "data.describe()"
   ]
  },
  {
   "cell_type": "code",
   "execution_count": null,
   "id": "b4c70192",
   "metadata": {},
   "outputs": [],
   "source": [
    "data.info()"
   ]
  },
  {
   "cell_type": "code",
   "execution_count": null,
   "id": "317ccf14",
   "metadata": {},
   "outputs": [],
   "source": [
    "# Check Duplicates\n",
    "data.duplicated().any()"
   ]
  },
  {
   "cell_type": "code",
   "execution_count": null,
   "id": "ad9333ef",
   "metadata": {},
   "outputs": [],
   "source": [
    "# Drop the columns which is not required for prediction\n",
    "data1 = data.drop(['Email','Address','Avatar'],axis=1)"
   ]
  },
  {
   "cell_type": "code",
   "execution_count": null,
   "id": "48da323f",
   "metadata": {},
   "outputs": [],
   "source": [
    "data1"
   ]
  },
  {
   "cell_type": "code",
   "execution_count": null,
   "id": "ce4a8c61",
   "metadata": {},
   "outputs": [],
   "source": [
    "# Check outliers\n",
    "data1.boxplot('Avg Session Length')\n",
    "plt.show()"
   ]
  },
  {
   "cell_type": "code",
   "execution_count": null,
   "id": "ffd45e80",
   "metadata": {},
   "outputs": [],
   "source": [
    "data1.boxplot('Time on App')\n",
    "plt.show()"
   ]
  },
  {
   "cell_type": "code",
   "execution_count": null,
   "id": "bc0f71d1",
   "metadata": {},
   "outputs": [],
   "source": [
    "data1.boxplot('Time on Website')\n",
    "plt.show()"
   ]
  },
  {
   "cell_type": "code",
   "execution_count": null,
   "id": "dceed735",
   "metadata": {},
   "outputs": [],
   "source": [
    "data1.boxplot('Length of Membership')\n",
    "plt.show()"
   ]
  },
  {
   "cell_type": "code",
   "execution_count": null,
   "id": "d9306907",
   "metadata": {},
   "outputs": [],
   "source": [
    "data1.boxplot()\n",
    "plt.show()"
   ]
  },
  {
   "cell_type": "code",
   "execution_count": null,
   "id": "babb0628",
   "metadata": {},
   "outputs": [],
   "source": [
    "# Function to remove outliers using IQR method\n",
    "def remove_outliers(data1):\n",
    "    for col in data1.select_dtypes(include='number').columns:\n",
    "        # Calculate Q1, Q3, and IQR\n",
    "        Q1 = data1[col].quantile(0.25)\n",
    "        Q3 = data1[col].quantile(0.75)\n",
    "        IQR = Q3 - Q1\n",
    "        \n",
    "        # Define lower and upper bounds for outliers\n",
    "        lower_extreme = Q1 - 1.5 * IQR\n",
    "        upper_extreme = Q3 + 1.5 * IQR\n",
    "        \n",
    "        # Remove outliers\n",
    "        data1 = data1[(data1[col] > lower_extreme) & (data1[col] < upper_extreme)]\n",
    "    \n",
    "    return data1"
   ]
  },
  {
   "cell_type": "code",
   "execution_count": null,
   "id": "eb6a985b",
   "metadata": {},
   "outputs": [],
   "source": [
    "# Remove outliers from all columns\n",
    "new_data = remove_outliers(data1)\n",
    "print(new_data)"
   ]
  },
  {
   "cell_type": "code",
   "execution_count": null,
   "id": "212bea6d",
   "metadata": {},
   "outputs": [],
   "source": [
    "# Visualization after removed outliers\n",
    "new_data.boxplot()\n",
    "plt.show()"
   ]
  },
  {
   "cell_type": "code",
   "execution_count": null,
   "id": "ff94668a",
   "metadata": {},
   "outputs": [],
   "source": [
    "# Compute the correlation matrix\n",
    "corr_matrix=new_data.corr()\n",
    "corr_matrix"
   ]
  },
  {
   "cell_type": "code",
   "execution_count": null,
   "id": "83660237",
   "metadata": {},
   "outputs": [],
   "source": [
    "# Draw the heatmap with the mask and correct aspect ratio\n",
    "sns.heatmap(corr_matrix,annot=True)\n",
    "plt.show()"
   ]
  },
  {
   "cell_type": "markdown",
   "id": "016d015d",
   "metadata": {},
   "source": [
    "# Visualization "
   ]
  },
  {
   "cell_type": "code",
   "execution_count": null,
   "id": "abe54b2f",
   "metadata": {},
   "outputs": [],
   "source": [
    "# Pairplot for a subset of variables\n",
    "sns.pairplot(new_data)\n",
    "plt.show()"
   ]
  },
  {
   "cell_type": "code",
   "execution_count": null,
   "id": "580e42ad",
   "metadata": {},
   "outputs": [],
   "source": [
    "# Correlation heatmap\n",
    "sns.heatmap(new_data.corr(), annot=True, cmap='coolwarm')\n",
    "plt.show()"
   ]
  },
  {
   "cell_type": "code",
   "execution_count": null,
   "id": "920a0149",
   "metadata": {},
   "outputs": [],
   "source": [
    "# Univariate Analysis\n",
    "# Histogram of Avg Session Length\n",
    "plt.figure(figsize=(8, 6))\n",
    "sns.histplot(new_data['Avg Session Length'], bins=20, kde=True)\n",
    "plt.title('Distribution of Avg Session Length')\n",
    "plt.xlabel('Avg Session Length')\n",
    "plt.ylabel('Frequency')\n",
    "plt.show()"
   ]
  },
  {
   "cell_type": "code",
   "execution_count": null,
   "id": "d9637680",
   "metadata": {},
   "outputs": [],
   "source": [
    "# Histogram of Time on App\n",
    "plt.figure(figsize=(8, 6))\n",
    "sns.histplot(new_data['Time on App'], bins=20, kde=True)\n",
    "plt.title('Distribution of Time on App')\n",
    "plt.xlabel('Time on App')\n",
    "plt.ylabel('Frequency')\n",
    "plt.show()"
   ]
  },
  {
   "cell_type": "code",
   "execution_count": null,
   "id": "ca75ae9e",
   "metadata": {},
   "outputs": [],
   "source": [
    "# Histogram of Time on Website\n",
    "plt.figure(figsize=(8, 6))\n",
    "sns.histplot(new_data['Time on Website'], bins=20, kde=True)\n",
    "plt.title('Distribution of Time on Website')\n",
    "plt.xlabel('Time on Website')\n",
    "plt.ylabel('Frequency')\n",
    "plt.show()"
   ]
  },
  {
   "cell_type": "code",
   "execution_count": null,
   "id": "bfbcff02",
   "metadata": {},
   "outputs": [],
   "source": [
    "# Histogram of Length of Membership\n",
    "plt.figure(figsize=(8, 6))\n",
    "sns.histplot(new_data['Length of Membership'], bins=20, kde=True)\n",
    "plt.title('Distribution of Length of Membership')\n",
    "plt.xlabel('Length of Membership')\n",
    "plt.ylabel('Frequency')\n",
    "plt.show()"
   ]
  },
  {
   "cell_type": "code",
   "execution_count": null,
   "id": "442cb39b",
   "metadata": {},
   "outputs": [],
   "source": [
    "# Scatter plot of Avg Session Length vs. Yearly Amount Spent\n",
    "plt.figure(figsize=(8, 6))\n",
    "sns.scatterplot(data=new_data, x='Avg Session Length', y='Yearly Amount Spent')\n",
    "plt.title('Scatter plot of Avg Session Length vs. Yearly Amount Spent')\n",
    "plt.xlabel('Avg Session Length')\n",
    "plt.ylabel('Yearly Amount Spent')\n",
    "plt.show()"
   ]
  },
  {
   "cell_type": "code",
   "execution_count": null,
   "id": "0f5bcb47",
   "metadata": {},
   "outputs": [],
   "source": [
    "# Scatter plot of Time on App vs. Yearly Amount Spent\n",
    "plt.figure(figsize=(8, 6))\n",
    "sns.scatterplot(data=new_data, x='Time on App', y='Yearly Amount Spent')\n",
    "plt.title('Scatter plot of Time on App vs. Yearly Amount Spent')\n",
    "plt.xlabel('Time on App')\n",
    "plt.ylabel('Yearly Amount Spent')\n",
    "plt.show()"
   ]
  },
  {
   "cell_type": "code",
   "execution_count": null,
   "id": "678f131b",
   "metadata": {},
   "outputs": [],
   "source": [
    "# Scatter plot of Time on Website vs. Yearly Amount Spent\n",
    "plt.figure(figsize=(8, 6))\n",
    "sns.scatterplot(data=new_data, x='Time on Website', y='Yearly Amount Spent')\n",
    "plt.title('Scatter plot of Time on Website vs. Yearly Amount Spent')\n",
    "plt.xlabel('Time on Website')\n",
    "plt.ylabel('Yearly Amount Spent')\n",
    "plt.show()"
   ]
  },
  {
   "cell_type": "code",
   "execution_count": null,
   "id": "f099d6e9",
   "metadata": {},
   "outputs": [],
   "source": [
    "# Scatter plot of Length of Membership vs. Yearly Amount Spent\n",
    "plt.figure(figsize=(8, 6))\n",
    "sns.scatterplot(data=new_data, x='Length of Membership', y='Yearly Amount Spent')\n",
    "plt.title('Scatter plot of Length of Membership vs. Yearly Amount Spent')\n",
    "plt.xlabel('Length of Membership')\n",
    "plt.ylabel('Yearly Amount Spent')\n",
    "plt.show()"
   ]
  },
  {
   "cell_type": "markdown",
   "id": "fd44c2c6",
   "metadata": {},
   "source": [
    "# Auto EDA"
   ]
  },
  {
   "cell_type": "code",
   "execution_count": null,
   "id": "383ab806",
   "metadata": {},
   "outputs": [],
   "source": [
    "# Generate the EDA report using sweetviz\n",
    "import sweetviz as sv"
   ]
  },
  {
   "cell_type": "code",
   "execution_count": null,
   "id": "1cb676b6",
   "metadata": {},
   "outputs": [],
   "source": [
    "report = sv.analyze(data)"
   ]
  },
  {
   "cell_type": "code",
   "execution_count": null,
   "id": "6a60ae28",
   "metadata": {},
   "outputs": [],
   "source": [
    "report.show_html('sweetviz_report.html')"
   ]
  },
  {
   "cell_type": "markdown",
   "id": "1f0e80cf",
   "metadata": {},
   "source": [
    "# Data Processing"
   ]
  },
  {
   "cell_type": "code",
   "execution_count": null,
   "id": "2f3ef527",
   "metadata": {},
   "outputs": [],
   "source": [
    "# Split the data into features and target"
   ]
  },
  {
   "cell_type": "code",
   "execution_count": null,
   "id": "0752052b",
   "metadata": {},
   "outputs": [],
   "source": [
    "x =new_data.iloc[: , 0:4]\n",
    "y =new_data.iloc[:, 4]"
   ]
  },
  {
   "cell_type": "code",
   "execution_count": null,
   "id": "f2302098",
   "metadata": {},
   "outputs": [],
   "source": [
    "# Import train_test_split to split the datas\n",
    "from sklearn.model_selection import train_test_split"
   ]
  },
  {
   "cell_type": "code",
   "execution_count": null,
   "id": "208cfcad",
   "metadata": {},
   "outputs": [],
   "source": [
    "x_train,x_test,y_train,y_test=train_test_split(x,y,train_size=0.3,random_state=42)"
   ]
  },
  {
   "cell_type": "code",
   "execution_count": null,
   "id": "ae7ee552",
   "metadata": {},
   "outputs": [],
   "source": [
    "x_train.shape"
   ]
  },
  {
   "cell_type": "code",
   "execution_count": null,
   "id": "05c13ffe",
   "metadata": {},
   "outputs": [],
   "source": [
    "x_test.shape"
   ]
  },
  {
   "cell_type": "code",
   "execution_count": null,
   "id": "34df6080",
   "metadata": {},
   "outputs": [],
   "source": [
    "y_train.shape"
   ]
  },
  {
   "cell_type": "code",
   "execution_count": null,
   "id": "f6bb2f76",
   "metadata": {},
   "outputs": [],
   "source": [
    "y_test.shape"
   ]
  },
  {
   "cell_type": "code",
   "execution_count": null,
   "id": "c500daa5",
   "metadata": {},
   "outputs": [],
   "source": [
    "train_accuracy = []\n",
    "test_accuracy = []"
   ]
  },
  {
   "cell_type": "markdown",
   "id": "5d10d962",
   "metadata": {},
   "source": [
    "#  Model Building"
   ]
  },
  {
   "cell_type": "markdown",
   "id": "eb751d02",
   "metadata": {},
   "source": [
    "# MODEL 1:  Linear Regression"
   ]
  },
  {
   "cell_type": "code",
   "execution_count": null,
   "id": "e797d507",
   "metadata": {},
   "outputs": [],
   "source": [
    "print(\"Linear Regression Model:\")\n",
    "linear_model = LinearRegression()\n",
    "linear_model.fit(x_train, y_train)"
   ]
  },
  {
   "cell_type": "code",
   "execution_count": null,
   "id": "4c90cce0",
   "metadata": {},
   "outputs": [],
   "source": [
    "#train and test predictions\n",
    "y_train_pred = linear_model.predict(x_train)\n",
    "y_test_pred = linear_model.predict(x_test)"
   ]
  },
  {
   "cell_type": "markdown",
   "id": "687eb922",
   "metadata": {},
   "source": [
    "### MODEL EVALUATION"
   ]
  },
  {
   "cell_type": "code",
   "execution_count": null,
   "id": "4d6473e1",
   "metadata": {},
   "outputs": [],
   "source": [
    "mse_train = mean_squared_error(y_train, y_train_pred)\n",
    "mse_test = mean_squared_error(y_test, y_test_pred)\n",
    "r2_train = r2_score(y_train, y_train_pred)\n",
    "r2_test = r2_score(y_test, y_test_pred)\n",
    "train_accuracy.append(r2_train)\n",
    "test_accuracy.append(r2_test)"
   ]
  },
  {
   "cell_type": "code",
   "execution_count": null,
   "id": "d4acc497",
   "metadata": {},
   "outputs": [],
   "source": [
    "print(\"Training Set Performance:\")\n",
    "print('-------------------------')\n",
    "print(\"Mean Squared Error:\", mse_train)\n",
    "print(\"R-squared Score:\", r2_train)"
   ]
  },
  {
   "cell_type": "code",
   "execution_count": null,
   "id": "5b1b08e7",
   "metadata": {},
   "outputs": [],
   "source": [
    "print(\"Test Set Performance:\")\n",
    "print('---------------------')\n",
    "print(\"Mean Squared Error:\", mse_test)\n",
    "print(\"R-squared Score:\", r2_test)"
   ]
  },
  {
   "cell_type": "markdown",
   "id": "13cc9b6e",
   "metadata": {},
   "source": [
    "### Cross validation"
   ]
  },
  {
   "cell_type": "code",
   "execution_count": null,
   "id": "d77a2ec9",
   "metadata": {},
   "outputs": [],
   "source": [
    "from sklearn.neighbors import KNeighborsRegressor\n",
    "linear_model = KNeighborsRegressor(n_neighbors=13)"
   ]
  },
  {
   "cell_type": "code",
   "execution_count": null,
   "id": "88b6753c",
   "metadata": {},
   "outputs": [],
   "source": [
    "training_error = []\n",
    "test_error = []"
   ]
  },
  {
   "cell_type": "code",
   "execution_count": null,
   "id": "049d268c",
   "metadata": {},
   "outputs": [],
   "source": [
    "for i in range(1,100):\n",
    "    x_train,x_test,y_train,y_test = train_test_split(x,y,test_size=0.30,random_state=10)\n",
    "    linear_model.fit(x_train,y_train)\n",
    "    y_pred_train = linear_model.predict(x_train)\n",
    "    y_pred_test  = linear_model.predict(x_test)\n",
    "    training_error.append(np.sqrt(mean_squared_error(y_train,y_pred_train)))\n",
    "    test_error.append(np.sqrt(mean_squared_error(y_test,y_pred_test)))\n",
    "print(\"Cross validation training Error:\",np.mean(training_error).round(2))\n",
    "print(\"Cross validation test Error:\",np.mean(test_error).round(2))\n",
    "print(\"variance:\",(np.mean(test_error)-np.mean(training_error)).round(2))"
   ]
  },
  {
   "cell_type": "markdown",
   "id": "afdfd566",
   "metadata": {},
   "source": [
    "# MODEL 2: Ridge Regression Model"
   ]
  },
  {
   "cell_type": "code",
   "execution_count": null,
   "id": "ad2e1798",
   "metadata": {},
   "outputs": [],
   "source": [
    "ridge_model = Ridge(alpha = 1.0)\n",
    "ridge_model.fit(x_train,y_train)"
   ]
  },
  {
   "cell_type": "code",
   "execution_count": null,
   "id": "81b0bb70",
   "metadata": {},
   "outputs": [],
   "source": [
    "# test prediction and traning prediction\n",
    "y_train_pred = ridge_model.predict(x_train)\n",
    "y_test_pred = ridge_model.predict(x_test)"
   ]
  },
  {
   "cell_type": "markdown",
   "id": "f87305d5",
   "metadata": {},
   "source": [
    "\n",
    "### Model Evaluation"
   ]
  },
  {
   "cell_type": "code",
   "execution_count": null,
   "id": "e5dc6014",
   "metadata": {},
   "outputs": [],
   "source": [
    "mse_train = mean_squared_error(y_train, y_train_pred)\n",
    "mse_test = mean_squared_error(y_test, y_test_pred)\n",
    "r2_train = r2_score(y_train, y_train_pred)\n",
    "r2_test = r2_score(y_test, y_test_pred)\n",
    "train_accuracy.append(r2_train)\n",
    "test_accuracy.append(r2_test)"
   ]
  },
  {
   "cell_type": "code",
   "execution_count": null,
   "id": "c233e3d3",
   "metadata": {},
   "outputs": [],
   "source": [
    "print(\"Training Set Performance:\")\n",
    "print('-------------------------')\n",
    "print(\"Mean Squared Error:\", mse_train)\n",
    "print(\"R-squared Score:\", r2_train)"
   ]
  },
  {
   "cell_type": "code",
   "execution_count": null,
   "id": "133372c1",
   "metadata": {},
   "outputs": [],
   "source": [
    "print(\"\\nTest Set Performance:\")\n",
    "print('-----------------------')\n",
    "print(\"Mean Squared Error:\", mse_test)\n",
    "print(\"R-squared Score:\", r2_test)"
   ]
  },
  {
   "cell_type": "markdown",
   "id": "8342b0f3",
   "metadata": {},
   "source": [
    "# MODEL 3: Decision Tree Model"
   ]
  },
  {
   "cell_type": "code",
   "execution_count": null,
   "id": "f4fb7fd4",
   "metadata": {},
   "outputs": [],
   "source": [
    "dt_model = DecisionTreeRegressor(random_state=42)\n",
    "dt_model.fit(x_train, y_train)"
   ]
  },
  {
   "cell_type": "code",
   "execution_count": null,
   "id": "502f35e2",
   "metadata": {},
   "outputs": [],
   "source": [
    "# test prediction and training prediction\n",
    "y_train_pred = dt_model.predict(x_train)\n",
    "y_test_pred = dt_model.predict(x_test)"
   ]
  },
  {
   "cell_type": "markdown",
   "id": "8ac8dba1",
   "metadata": {},
   "source": [
    "### Model Evaluation"
   ]
  },
  {
   "cell_type": "code",
   "execution_count": null,
   "id": "7357c46b",
   "metadata": {},
   "outputs": [],
   "source": [
    "mse_train = mean_squared_error(y_train, y_train_pred)\n",
    "mse_test = mean_squared_error(y_test, y_test_pred)\n",
    "r2_train = r2_score(y_train, y_train_pred)\n",
    "r2_test = r2_score(y_test, y_test_pred)\n",
    "train_accuracy.append(r2_train)\n",
    "test_accuracy.append(r2_test)"
   ]
  },
  {
   "cell_type": "code",
   "execution_count": null,
   "id": "103cecf3",
   "metadata": {},
   "outputs": [],
   "source": [
    "print(\"Training Set Performance:\")\n",
    "print('-------------------------')\n",
    "print(\"Mean Squared Error:\", mse_train)\n",
    "print(\"R-squared Score:\", r2_train)"
   ]
  },
  {
   "cell_type": "code",
   "execution_count": null,
   "id": "9e25d11a",
   "metadata": {},
   "outputs": [],
   "source": [
    "print(\"\\nTest Set Performance:\")\n",
    "print('-----------------------')\n",
    "print(\"Mean Squared Error:\", mse_test)\n",
    "print(\"R-squared Score:\", r2_test)"
   ]
  },
  {
   "cell_type": "markdown",
   "id": "e6844f80",
   "metadata": {},
   "source": [
    "### Cross Validation"
   ]
  },
  {
   "cell_type": "code",
   "execution_count": null,
   "id": "38d92dca",
   "metadata": {},
   "outputs": [],
   "source": [
    "from sklearn.neighbors import KNeighborsRegressor\n",
    "gb_model = KNeighborsRegressor(n_neighbors=13)"
   ]
  },
  {
   "cell_type": "code",
   "execution_count": null,
   "id": "0cd91f79",
   "metadata": {},
   "outputs": [],
   "source": [
    "training_error = []\n",
    "test_error = []"
   ]
  },
  {
   "cell_type": "code",
   "execution_count": null,
   "id": "5befc86d",
   "metadata": {},
   "outputs": [],
   "source": [
    "for i in range(1,100):\n",
    "    X_train,X_test,Y_train,Y_test = train_test_split(x,y,test_size=0.30,random_state=i)\n",
    "    gb_model.fit(X_train,Y_train)\n",
    "    Y_pred_train = dt_model.predict(X_train)\n",
    "    Y_pred_test  = dt_model.predict(X_test)\n",
    "    training_error.append(np.sqrt(mean_squared_error(Y_train,Y_pred_train)))\n",
    "    test_error.append(np.sqrt(mean_squared_error(Y_test,Y_pred_test)))\n",
    "print(\"Cross validation training Error:\",np.mean(training_error).round(2))\n",
    "print(\"Cross validation test Error:\",np.mean(test_error).round(2))\n",
    "print(\"variance:\",(np.mean(test_error)-np.mean(training_error)).round(2))"
   ]
  },
  {
   "cell_type": "markdown",
   "id": "93561f65",
   "metadata": {},
   "source": [
    "# Model 4: Random Forest Model"
   ]
  },
  {
   "cell_type": "code",
   "execution_count": null,
   "id": "2e23518f",
   "metadata": {},
   "outputs": [],
   "source": [
    "rf_model = RandomForestRegressor(n_estimators = 100, max_samples=0.8, max_features=4, random_state = 42)\n",
    "rf_model.fit(x_train,y_train)"
   ]
  },
  {
   "cell_type": "code",
   "execution_count": null,
   "id": "e7002112",
   "metadata": {},
   "outputs": [],
   "source": [
    "# test prediction and traning prediction\n",
    "y_train_pred = rf_model.predict(x_train)\n",
    "y_test_pred = rf_model.predict(x_test)"
   ]
  },
  {
   "cell_type": "markdown",
   "id": "bfa139c7",
   "metadata": {},
   "source": [
    "### Model Evaluation"
   ]
  },
  {
   "cell_type": "code",
   "execution_count": null,
   "id": "ec0fafdc",
   "metadata": {},
   "outputs": [],
   "source": [
    "mse_train = mean_squared_error(y_train, y_train_pred)\n",
    "mse_test = mean_squared_error(y_test, y_test_pred)\n",
    "r2_train = r2_score(y_train, y_train_pred)\n",
    "r2_test  = r2_score(y_test, y_test_pred)\n",
    "train_accuracy.append(r2_train)\n",
    "test_accuracy.append(r2_test)"
   ]
  },
  {
   "cell_type": "code",
   "execution_count": null,
   "id": "98f90958",
   "metadata": {},
   "outputs": [],
   "source": [
    "print(\"Training Set Performance:\")\n",
    "print('-------------------------')\n",
    "print(\"Mean Squared Error:\", mse_train)\n",
    "print(\"R-squared Score:\", r2_train)"
   ]
  },
  {
   "cell_type": "code",
   "execution_count": null,
   "id": "020cd170",
   "metadata": {},
   "outputs": [],
   "source": [
    "print(\"Training Set Performance:\")\n",
    "print('-------------------------')\n",
    "print(\"Mean Squared Error:\", mse_train)\n",
    "print(\"R-squared Score:\", r2_train)"
   ]
  },
  {
   "cell_type": "markdown",
   "id": "25db3864",
   "metadata": {},
   "source": [
    "# Model 5: Gradient Boosting Regressor Model"
   ]
  },
  {
   "cell_type": "code",
   "execution_count": null,
   "id": "9cc1c437",
   "metadata": {},
   "outputs": [],
   "source": [
    "print(\"\\nGradient Boosting Regressor Model:\")\n",
    "gb_model = GradientBoostingRegressor(random_state=42)\n",
    "gb_model.fit(x_train, y_train)"
   ]
  },
  {
   "cell_type": "code",
   "execution_count": null,
   "id": "1773cfaa",
   "metadata": {},
   "outputs": [],
   "source": [
    "# test prediction and traning prediction\n",
    "y_train_pred = gb_model.predict(x_train)\n",
    "y_test_pred = gb_model.predict(x_test)"
   ]
  },
  {
   "cell_type": "markdown",
   "id": "ffa9864d",
   "metadata": {},
   "source": [
    "### Model Evaluation"
   ]
  },
  {
   "cell_type": "code",
   "execution_count": null,
   "id": "e1569435",
   "metadata": {},
   "outputs": [],
   "source": [
    "mse_train = mean_squared_error(y_train, y_train_pred)\n",
    "mse_test = mean_squared_error(y_test, y_test_pred)\n",
    "r2_train = r2_score(y_train, y_train_pred)\n",
    "r2_test = r2_score(y_test, y_test_pred)\n",
    "train_accuracy.append(r2_train)\n",
    "test_accuracy.append(r2_test)"
   ]
  },
  {
   "cell_type": "code",
   "execution_count": null,
   "id": "b972ddb5",
   "metadata": {},
   "outputs": [],
   "source": [
    "print(\"Training Set Performance:\")\n",
    "print('-------------------------')\n",
    "print(\"Mean Squared Error:\", mse_train)\n",
    "print(\"R-squared Score:\", r2_train)"
   ]
  },
  {
   "cell_type": "code",
   "execution_count": null,
   "id": "726b31b4",
   "metadata": {},
   "outputs": [],
   "source": [
    "print(\"\\nTest Set Performance:\")\n",
    "print('------------------------')\n",
    "print(\"Mean Squared Error:\", mse_test)\n",
    "print(\"R-squared Score:\", r2_test)"
   ]
  },
  {
   "cell_type": "markdown",
   "id": "86741d43",
   "metadata": {},
   "source": [
    "### Cross Validation"
   ]
  },
  {
   "cell_type": "code",
   "execution_count": null,
   "id": "c8f84cab",
   "metadata": {},
   "outputs": [],
   "source": [
    "from sklearn.neighbors import KNeighborsRegressor\n",
    "gb_model = KNeighborsRegressor(n_neighbors=13)"
   ]
  },
  {
   "cell_type": "code",
   "execution_count": null,
   "id": "7fab30f3",
   "metadata": {},
   "outputs": [],
   "source": [
    "training_error = []\n",
    "test_error = []"
   ]
  },
  {
   "cell_type": "code",
   "execution_count": null,
   "id": "2eb6ea8d",
   "metadata": {
    "scrolled": true
   },
   "outputs": [],
   "source": [
    "for i in range(1,100):\n",
    "    X_train,X_test,Y_train,Y_test = train_test_split(x,y,test_size=0.30,random_state=i)\n",
    "    gb_model.fit(X_train,Y_train)\n",
    "    Y_pred_train = gb_model.predict(X_train)\n",
    "    Y_pred_test  = gb_model.predict(X_test)\n",
    "    training_error.append(np.sqrt(mean_squared_error(Y_train,Y_pred_train)))\n",
    "    test_error.append(np.sqrt(mean_squared_error(Y_test,Y_pred_test)))\n",
    "print(\"Cross validation training Error:\",np.mean(training_error).round(2))\n",
    "print(\"Cross validation test Error:\",np.mean(test_error).round(2))\n",
    "print(\"variance:\",(np.mean(test_error)-np.mean(training_error)).round(2))"
   ]
  },
  {
   "cell_type": "markdown",
   "id": "a8c270d2",
   "metadata": {},
   "source": [
    "# Model 6: K - NEAREST NEIGHBOR REGRESSOR MODEL"
   ]
  },
  {
   "cell_type": "code",
   "execution_count": null,
   "id": "188a5173",
   "metadata": {},
   "outputs": [],
   "source": [
    "from sklearn.preprocessing import StandardScaler"
   ]
  },
  {
   "cell_type": "code",
   "execution_count": null,
   "id": "9f58dcec",
   "metadata": {},
   "outputs": [],
   "source": [
    "std=StandardScaler()"
   ]
  },
  {
   "cell_type": "code",
   "execution_count": null,
   "id": "84287975",
   "metadata": {},
   "outputs": [],
   "source": [
    "sdata=std.fit_transform(new_data)"
   ]
  },
  {
   "cell_type": "code",
   "execution_count": null,
   "id": "e3d5dd46",
   "metadata": {},
   "outputs": [],
   "source": [
    "# convert array into dataframes \n",
    "std_data=pd.DataFrame(sdata,columns=new_data.columns)"
   ]
  },
  {
   "cell_type": "code",
   "execution_count": null,
   "id": "2c7d38b3",
   "metadata": {},
   "outputs": [],
   "source": [
    "sx =std_data.iloc[:, 0:4]\n",
    "sy =std_data.iloc[:, 4]\n",
    "# Split the dataset into training and testing sets\n",
    "X_train, X_test, Y_train, Y_test = train_test_split(sx, sy, test_size=0.2, random_state=42)"
   ]
  },
  {
   "cell_type": "code",
   "execution_count": null,
   "id": "dd5169eb",
   "metadata": {},
   "outputs": [],
   "source": [
    "# Create and train the KNN regressor model\n",
    "knn_model = KNeighborsRegressor(n_neighbors=5)  # You can adjust the number of neighbors (K) here\n",
    "knn_model.fit(X_train, Y_train)"
   ]
  },
  {
   "cell_type": "code",
   "execution_count": null,
   "id": "4e39f44c",
   "metadata": {},
   "outputs": [],
   "source": [
    "# test prediction and traning prediction\n",
    "y_train_pred = knn_model.predict(X_train)\n",
    "y_test_pred = knn_model.predict(X_test)"
   ]
  },
  {
   "cell_type": "markdown",
   "id": "421a9437",
   "metadata": {},
   "source": [
    "### Model Evaluation"
   ]
  },
  {
   "cell_type": "code",
   "execution_count": null,
   "id": "16c59cd2",
   "metadata": {},
   "outputs": [],
   "source": [
    "mse_train = mean_squared_error(Y_train, y_train_pred)\n",
    "mse_test = mean_squared_error(Y_test, y_test_pred)\n",
    "r2_train = r2_score(Y_train, y_train_pred)\n",
    "r2_test = r2_score(Y_test, y_test_pred)\n",
    "train_accuracy.append(r2_train)\n",
    "test_accuracy.append(r2_test)"
   ]
  },
  {
   "cell_type": "code",
   "execution_count": null,
   "id": "9e83ccb8",
   "metadata": {},
   "outputs": [],
   "source": [
    "print(\"Training Set Performance:\")\n",
    "print('-------------------------')\n",
    "print(\"Mean Squared Error:\", mse_train)\n",
    "print(\"R-squared Score:\", r2_train)"
   ]
  },
  {
   "cell_type": "code",
   "execution_count": null,
   "id": "d251c494",
   "metadata": {},
   "outputs": [],
   "source": [
    "print(\"\\nTest Set Performance:\")\n",
    "print('-----------------------')\n",
    "print(\"Mean Squared Error:\", mse_test)\n",
    "print(\"R-squared Score:\", r2_test)"
   ]
  },
  {
   "cell_type": "markdown",
   "id": "2f9d6e63",
   "metadata": {},
   "source": [
    "# Model 7 - Support Vector Machine Model"
   ]
  },
  {
   "cell_type": "code",
   "execution_count": null,
   "id": "f391e808",
   "metadata": {},
   "outputs": [],
   "source": [
    "svm_model = SVR(kernel='linear', C = 1.0)\n",
    "svm_model.fit(X_train,Y_train)"
   ]
  },
  {
   "cell_type": "code",
   "execution_count": null,
   "id": "5ec9d234",
   "metadata": {},
   "outputs": [],
   "source": [
    "# test prediction and traning prediction\n",
    "y_train_pred = svm_model.predict(X_train)\n",
    "y_test_pred = svm_model.predict(X_test)"
   ]
  },
  {
   "cell_type": "markdown",
   "id": "a29ec8b7",
   "metadata": {},
   "source": [
    "## Model Evaluation"
   ]
  },
  {
   "cell_type": "code",
   "execution_count": null,
   "id": "1c9146a0",
   "metadata": {},
   "outputs": [],
   "source": [
    "mse_train = mean_squared_error(Y_train, y_train_pred)\n",
    "mse_test = mean_squared_error(Y_test, y_test_pred)\n",
    "r2_train = r2_score(Y_train, y_train_pred)\n",
    "r2_test = r2_score(Y_test, y_test_pred)\n",
    "train_accuracy.append(r2_train)\n",
    "test_accuracy.append(r2_test)"
   ]
  },
  {
   "cell_type": "code",
   "execution_count": null,
   "id": "87a23892",
   "metadata": {},
   "outputs": [],
   "source": [
    "print(\"Training Set Performance:\")\n",
    "print('-------------------------')\n",
    "print(\"Mean Squared Error:\", mse_train)\n",
    "print(\"R-squared Score:\", r2_train)"
   ]
  },
  {
   "cell_type": "code",
   "execution_count": null,
   "id": "19484080",
   "metadata": {},
   "outputs": [],
   "source": [
    "print(\"\\nTest Set Performance:\")\n",
    "print('-----------------------')\n",
    "print(\"Mean Squared Error:\", mse_test)\n",
    "print(\"R-squared Score:\", r2_test)"
   ]
  },
  {
   "cell_type": "code",
   "execution_count": null,
   "id": "f4440a17",
   "metadata": {},
   "outputs": [],
   "source": [
    "plt.figure(figsize=(15,8))\n",
    "plt.style.use('seaborn-darkgrid')\n",
    "plt.bar(range(1,8),train_accuracy,color=\"blue\")\n",
    "plt.plot(range(1,8),train_accuracy,color=\"black\")\n",
    "plt.title('Training Accuracy',size =25)\n",
    "plt.ylim(0.8,1)\n",
    "plt.xticks(range(1,8))\n",
    "plt.xlabel(\"Model\",size=20)\n",
    "plt.ylabel(\"Accuracy\",size=20)\n",
    "plt.show()"
   ]
  },
  {
   "cell_type": "code",
   "execution_count": null,
   "id": "5c8f4b5c",
   "metadata": {},
   "outputs": [],
   "source": [
    "plt.figure(figsize=(15,8))\n",
    "plt.style.use('seaborn-darkgrid')\n",
    "plt.title('Testing Accuracy',size = 25)\n",
    "plt.bar(range(1,8),test_accuracy,color=\"blue\")\n",
    "plt.plot(range(1,8),test_accuracy,color=\"black\")\n",
    "plt.ylim(0.8,1)\n",
    "plt.xticks(range(1,8))\n",
    "plt.xlabel(\"Model\",size=20)\n",
    "plt.ylabel(\"Accuracy\",size=20)\n",
    "plt.show()"
   ]
  },
  {
   "cell_type": "code",
   "execution_count": null,
   "id": "19794ade",
   "metadata": {},
   "outputs": [],
   "source": []
  },
  {
   "cell_type": "code",
   "execution_count": null,
   "id": "8d577f6a",
   "metadata": {},
   "outputs": [],
   "source": []
  },
  {
   "cell_type": "code",
   "execution_count": null,
   "id": "4ba22b09",
   "metadata": {},
   "outputs": [],
   "source": []
  },
  {
   "cell_type": "code",
   "execution_count": null,
   "id": "a339e7c7",
   "metadata": {},
   "outputs": [],
   "source": []
  },
  {
   "cell_type": "code",
   "execution_count": null,
   "id": "53897e8e",
   "metadata": {},
   "outputs": [],
   "source": []
  },
  {
   "cell_type": "code",
   "execution_count": null,
   "id": "8ba9dd00",
   "metadata": {},
   "outputs": [],
   "source": []
  },
  {
   "cell_type": "code",
   "execution_count": null,
   "id": "30510bd6",
   "metadata": {},
   "outputs": [],
   "source": []
  },
  {
   "cell_type": "code",
   "execution_count": null,
   "id": "ad0b5f57",
   "metadata": {},
   "outputs": [],
   "source": []
  },
  {
   "cell_type": "code",
   "execution_count": null,
   "id": "b7e0349c",
   "metadata": {},
   "outputs": [],
   "source": []
  },
  {
   "cell_type": "code",
   "execution_count": null,
   "id": "1b23447c",
   "metadata": {},
   "outputs": [],
   "source": []
  },
  {
   "cell_type": "code",
   "execution_count": null,
   "id": "20c65f8f",
   "metadata": {},
   "outputs": [],
   "source": []
  },
  {
   "cell_type": "code",
   "execution_count": null,
   "id": "b18ffaeb",
   "metadata": {},
   "outputs": [],
   "source": []
  },
  {
   "cell_type": "code",
   "execution_count": null,
   "id": "8040e7c9",
   "metadata": {},
   "outputs": [],
   "source": []
  },
  {
   "cell_type": "code",
   "execution_count": null,
   "id": "3ad3db44",
   "metadata": {},
   "outputs": [],
   "source": []
  },
  {
   "cell_type": "code",
   "execution_count": null,
   "id": "17450866",
   "metadata": {},
   "outputs": [],
   "source": []
  },
  {
   "cell_type": "code",
   "execution_count": null,
   "id": "951ffba5",
   "metadata": {},
   "outputs": [],
   "source": []
  },
  {
   "cell_type": "code",
   "execution_count": null,
   "id": "0181fbc9",
   "metadata": {},
   "outputs": [],
   "source": []
  },
  {
   "cell_type": "code",
   "execution_count": null,
   "id": "b17731ce",
   "metadata": {},
   "outputs": [],
   "source": []
  },
  {
   "cell_type": "code",
   "execution_count": null,
   "id": "e6a88ac0",
   "metadata": {},
   "outputs": [],
   "source": []
  },
  {
   "cell_type": "code",
   "execution_count": null,
   "id": "a9d360b5",
   "metadata": {},
   "outputs": [],
   "source": []
  }
 ],
 "metadata": {
  "kernelspec": {
   "display_name": "Python 3 (ipykernel)",
   "language": "python",
   "name": "python3"
  },
  "language_info": {
   "codemirror_mode": {
    "name": "ipython",
    "version": 3
   },
   "file_extension": ".py",
   "mimetype": "text/x-python",
   "name": "python",
   "nbconvert_exporter": "python",
   "pygments_lexer": "ipython3",
   "version": "3.11.4"
  }
 },
 "nbformat": 4,
 "nbformat_minor": 5
}
